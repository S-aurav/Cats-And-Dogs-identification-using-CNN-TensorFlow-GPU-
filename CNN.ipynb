{
 "cells": [
  {
   "cell_type": "markdown",
   "metadata": {
    "id": "3DR-eO17geWu"
   },
   "source": [
    "# Convolutional Neural Network"
   ]
  },
  {
   "cell_type": "markdown",
   "metadata": {
    "id": "EMefrVPCg-60"
   },
   "source": [
    "### Importing the libraries"
   ]
  },
  {
   "cell_type": "code",
   "execution_count": 1,
   "metadata": {
    "id": "qk5t_NggoAJ8"
   },
   "outputs": [
    {
     "name": "stdout",
     "output_type": "stream",
     "text": [
      "[PhysicalDevice(name='/physical_device:GPU:0', device_type='GPU')]\n"
     ]
    }
   ],
   "source": [
    "import tensorflow as tf\n",
    "from keras.preprocessing.image import ImageDataGenerator\n",
    "print(tf.config.list_physical_devices('GPU'))  # Checking whether GPU is available or not"
   ]
  },
  {
   "cell_type": "code",
   "execution_count": 2,
   "metadata": {
    "colab": {
     "base_uri": "https://localhost:8080/",
     "height": 35
    },
    "id": "6jxeT9O1oN3M",
    "outputId": "3b3fec26-4e50-47d1-e106-ff5c25216acf"
   },
   "outputs": [
    {
     "data": {
      "text/plain": [
       "'2.10.0'"
      ]
     },
     "execution_count": 2,
     "metadata": {},
     "output_type": "execute_result"
    }
   ],
   "source": [
    "tf.__version__"
   ]
  },
  {
   "cell_type": "markdown",
   "metadata": {
    "id": "oxQxCBWyoGPE"
   },
   "source": [
    "## Part 1 - Data Preprocessing"
   ]
  },
  {
   "cell_type": "markdown",
   "metadata": {
    "id": "MvE-heJNo3GG"
   },
   "source": [
    "### Preprocessing the Training set"
   ]
  },
  {
   "cell_type": "code",
   "execution_count": 3,
   "metadata": {
    "id": "uexEKfY3oeLL"
   },
   "outputs": [
    {
     "name": "stdout",
     "output_type": "stream",
     "text": [
      "Found 7999 images belonging to 2 classes.\n"
     ]
    }
   ],
   "source": [
    "train_datagen = ImageDataGenerator(\n",
    "    rescale=1./255,\n",
    "    shear_range=0.2,\n",
    "    zoom_range=0.2,\n",
    "    horizontal_flip=True)\n",
    "training_set = train_datagen.flow_from_directory(\n",
    "    'dataset/training_set',\n",
    "    target_size=(64, 64),\n",
    "    batch_size=32,\n",
    "    class_mode='binary')"
   ]
  },
  {
   "cell_type": "markdown",
   "metadata": {
    "id": "mrCMmGw9pHys"
   },
   "source": [
    "### Preprocessing the Test set"
   ]
  },
  {
   "cell_type": "code",
   "execution_count": 4,
   "metadata": {
    "id": "JX4S3ca_rVBj"
   },
   "outputs": [
    {
     "name": "stdout",
     "output_type": "stream",
     "text": [
      "Found 2000 images belonging to 2 classes.\n"
     ]
    }
   ],
   "source": [
    "test_datagen = ImageDataGenerator(rescale=1./255)\n",
    "test_set = test_datagen.flow_from_directory(\n",
    "    'dataset/test_set',\n",
    "    target_size=(64,64),\n",
    "    batch_size=32,\n",
    "    class_mode='binary')"
   ]
  },
  {
   "cell_type": "markdown",
   "metadata": {
    "id": "af8O4l90gk7B"
   },
   "source": [
    "## Part 2 - Building the CNN"
   ]
  },
  {
   "cell_type": "markdown",
   "metadata": {
    "id": "ces1gXY2lmoX"
   },
   "source": [
    "### Initialising the CNN"
   ]
  },
  {
   "cell_type": "code",
   "execution_count": 5,
   "metadata": {
    "id": "E5Pmyv1fsohS"
   },
   "outputs": [],
   "source": [
    "cnn = tf.keras.models.Sequential()"
   ]
  },
  {
   "cell_type": "markdown",
   "metadata": {
    "id": "u5YJj_XMl5LF"
   },
   "source": [
    "### Step 1 - Convolution"
   ]
  },
  {
   "cell_type": "code",
   "execution_count": 6,
   "metadata": {
    "id": "VOMyviJctDtJ"
   },
   "outputs": [],
   "source": [
    "cnn.add(tf.keras.layers.Conv2D(filters=32, kernel_size=3, activation='relu', input_shape=[64, 64, 3]))"
   ]
  },
  {
   "cell_type": "markdown",
   "metadata": {
    "id": "tf87FpvxmNOJ"
   },
   "source": [
    "### Step 2 - Pooling"
   ]
  },
  {
   "cell_type": "code",
   "execution_count": 7,
   "metadata": {
    "id": "-IMKQ-9SuT1r"
   },
   "outputs": [],
   "source": [
    "cnn.add(tf.keras.layers.MaxPool2D(pool_size=2, strides=2))"
   ]
  },
  {
   "cell_type": "markdown",
   "metadata": {
    "id": "xaTOgD8rm4mU"
   },
   "source": [
    "### Adding a second convolutional layer"
   ]
  },
  {
   "cell_type": "code",
   "execution_count": 8,
   "metadata": {
    "id": "8fa8FP8SvUJq"
   },
   "outputs": [],
   "source": [
    "cnn.add(tf.keras.layers.Conv2D(filters=32, kernel_size=3, activation='relu'))\n",
    "cnn.add(tf.keras.layers.MaxPool2D(pool_size=2, strides=2))"
   ]
  },
  {
   "cell_type": "markdown",
   "metadata": {
    "id": "tmiEuvTunKfk"
   },
   "source": [
    "### Step 3 - Flattening"
   ]
  },
  {
   "cell_type": "code",
   "execution_count": 9,
   "metadata": {
    "id": "dssP2YAvvh7W"
   },
   "outputs": [],
   "source": [
    "cnn.add(tf.keras.layers.Flatten())"
   ]
  },
  {
   "cell_type": "markdown",
   "metadata": {
    "id": "dAoSECOm203v"
   },
   "source": [
    "### Step 4 - Full Connection"
   ]
  },
  {
   "cell_type": "code",
   "execution_count": 10,
   "metadata": {
    "id": "UVJoNmWev9ju"
   },
   "outputs": [],
   "source": [
    "cnn.add(tf.keras.layers.Dense(units = 128, activation = 'relu'))"
   ]
  },
  {
   "cell_type": "markdown",
   "metadata": {
    "id": "yTldFvbX28Na"
   },
   "source": [
    "### Step 5 - Output Layer"
   ]
  },
  {
   "cell_type": "code",
   "execution_count": 11,
   "metadata": {
    "id": "aGHa-maewX2e"
   },
   "outputs": [],
   "source": [
    "cnn.add(tf.keras.layers.Dense(units = 1, activation = 'sigmoid'))"
   ]
  },
  {
   "cell_type": "markdown",
   "metadata": {
    "id": "D6XkI90snSDl"
   },
   "source": [
    "## Part 3 - Training the CNN"
   ]
  },
  {
   "cell_type": "markdown",
   "metadata": {
    "id": "vfrFQACEnc6i"
   },
   "source": [
    "### Compiling the CNN"
   ]
  },
  {
   "cell_type": "code",
   "execution_count": 12,
   "metadata": {
    "id": "hwHZv7DOwoRw"
   },
   "outputs": [],
   "source": [
    "cnn.compile(optimizer = 'adam', loss = 'binary_crossentropy', metrics = ['accuracy'])"
   ]
  },
  {
   "cell_type": "markdown",
   "metadata": {
    "id": "ehS-v3MIpX2h"
   },
   "source": [
    "### Training the CNN on the Training set and evaluating it on the Test set"
   ]
  },
  {
   "cell_type": "code",
   "execution_count": 13,
   "metadata": {
    "id": "J7gfa-rdwvG9"
   },
   "outputs": [
    {
     "name": "stdout",
     "output_type": "stream",
     "text": [
      "Epoch 1/25\n",
      "250/250 [==============================] - 29s 111ms/step - loss: 0.6782 - accuracy: 0.5692 - val_loss: 0.6429 - val_accuracy: 0.6250\n",
      "Epoch 2/25\n",
      "250/250 [==============================] - 22s 89ms/step - loss: 0.6026 - accuracy: 0.6788 - val_loss: 0.5689 - val_accuracy: 0.7145\n",
      "Epoch 3/25\n",
      "250/250 [==============================] - 21s 85ms/step - loss: 0.5740 - accuracy: 0.6931 - val_loss: 0.5625 - val_accuracy: 0.7165\n",
      "Epoch 4/25\n",
      "250/250 [==============================] - 22s 87ms/step - loss: 0.5425 - accuracy: 0.7225 - val_loss: 0.5924 - val_accuracy: 0.6925\n",
      "Epoch 5/25\n",
      "250/250 [==============================] - 21s 85ms/step - loss: 0.5263 - accuracy: 0.7395 - val_loss: 0.5175 - val_accuracy: 0.7440\n",
      "Epoch 6/25\n",
      "250/250 [==============================] - 21s 84ms/step - loss: 0.4970 - accuracy: 0.7572 - val_loss: 0.4884 - val_accuracy: 0.7700\n",
      "Epoch 7/25\n",
      "250/250 [==============================] - 21s 85ms/step - loss: 0.4801 - accuracy: 0.7683 - val_loss: 0.4766 - val_accuracy: 0.7815\n",
      "Epoch 8/25\n",
      "250/250 [==============================] - 21s 85ms/step - loss: 0.4695 - accuracy: 0.7755 - val_loss: 0.4873 - val_accuracy: 0.7670\n",
      "Epoch 9/25\n",
      "250/250 [==============================] - 22s 87ms/step - loss: 0.4623 - accuracy: 0.7807 - val_loss: 0.4973 - val_accuracy: 0.7730\n",
      "Epoch 10/25\n",
      "250/250 [==============================] - 21s 86ms/step - loss: 0.4490 - accuracy: 0.7868 - val_loss: 0.5282 - val_accuracy: 0.7535\n",
      "Epoch 11/25\n",
      "250/250 [==============================] - 21s 85ms/step - loss: 0.4314 - accuracy: 0.7971 - val_loss: 0.4684 - val_accuracy: 0.7885\n",
      "Epoch 12/25\n",
      "250/250 [==============================] - 22s 86ms/step - loss: 0.4281 - accuracy: 0.8004 - val_loss: 0.4620 - val_accuracy: 0.7940\n",
      "Epoch 13/25\n",
      "250/250 [==============================] - 22s 86ms/step - loss: 0.4176 - accuracy: 0.8065 - val_loss: 0.4910 - val_accuracy: 0.7730\n",
      "Epoch 14/25\n",
      "250/250 [==============================] - 24s 97ms/step - loss: 0.4120 - accuracy: 0.8105 - val_loss: 0.4913 - val_accuracy: 0.7785\n",
      "Epoch 15/25\n",
      "250/250 [==============================] - 23s 93ms/step - loss: 0.4000 - accuracy: 0.8157 - val_loss: 0.4546 - val_accuracy: 0.7895\n",
      "Epoch 16/25\n",
      "250/250 [==============================] - 21s 86ms/step - loss: 0.3916 - accuracy: 0.8200 - val_loss: 0.4539 - val_accuracy: 0.8070\n",
      "Epoch 17/25\n",
      "250/250 [==============================] - 21s 84ms/step - loss: 0.3794 - accuracy: 0.8279 - val_loss: 0.4570 - val_accuracy: 0.7995\n",
      "Epoch 18/25\n",
      "250/250 [==============================] - 21s 85ms/step - loss: 0.3770 - accuracy: 0.8305 - val_loss: 0.4532 - val_accuracy: 0.8045\n",
      "Epoch 19/25\n",
      "250/250 [==============================] - 22s 87ms/step - loss: 0.3763 - accuracy: 0.8287 - val_loss: 0.4514 - val_accuracy: 0.8065\n",
      "Epoch 20/25\n",
      "250/250 [==============================] - 21s 86ms/step - loss: 0.3615 - accuracy: 0.8356 - val_loss: 0.4463 - val_accuracy: 0.8180\n",
      "Epoch 21/25\n",
      "250/250 [==============================] - 22s 87ms/step - loss: 0.3535 - accuracy: 0.8414 - val_loss: 0.4732 - val_accuracy: 0.7980\n",
      "Epoch 22/25\n",
      "250/250 [==============================] - 22s 88ms/step - loss: 0.3515 - accuracy: 0.8436 - val_loss: 0.4672 - val_accuracy: 0.7980\n",
      "Epoch 23/25\n",
      "250/250 [==============================] - 22s 86ms/step - loss: 0.3381 - accuracy: 0.8512 - val_loss: 0.4675 - val_accuracy: 0.8015\n",
      "Epoch 24/25\n",
      "250/250 [==============================] - 21s 85ms/step - loss: 0.3385 - accuracy: 0.8477 - val_loss: 0.4700 - val_accuracy: 0.8080\n",
      "Epoch 25/25\n",
      "250/250 [==============================] - 21s 84ms/step - loss: 0.3279 - accuracy: 0.8591 - val_loss: 0.4528 - val_accuracy: 0.8020\n",
      "CPU times: total: 10min 56s\n",
      "Wall time: 9min 10s\n"
     ]
    },
    {
     "data": {
      "text/plain": [
       "<keras.callbacks.History at 0x1b4a9baf2e0>"
      ]
     },
     "execution_count": 13,
     "metadata": {},
     "output_type": "execute_result"
    }
   ],
   "source": [
    "%%time\n",
    "cnn.fit(x = training_set, validation_data = test_set, epochs = 25)"
   ]
  },
  {
   "cell_type": "markdown",
   "metadata": {
    "id": "U3PZasO0006Z"
   },
   "source": [
    "## Part 4 - Making a single prediction"
   ]
  },
  {
   "cell_type": "code",
   "execution_count": 16,
   "metadata": {
    "id": "7DndmBeWzKgY"
   },
   "outputs": [
    {
     "name": "stdout",
     "output_type": "stream",
     "text": [
      "1/1 [==============================] - 0s 18ms/step\n"
     ]
    }
   ],
   "source": [
    "import numpy as np\n",
    "from tensorflow.keras.preprocessing import image\n",
    "test_image = image.load_img('dataset/single_prediction/cat_or_dog_9.jpg', target_size = (64, 64))\n",
    "test_image = image.img_to_array(test_image)\n",
    "test_image = np.expand_dims(test_image, axis = 0)\n",
    "result = cnn.predict(test_image)\n",
    "training_set.class_indices\n",
    "if result[0][0] == 1:\n",
    "  prediction = 'dog'\n",
    "else:\n",
    "  prediction = 'cat'"
   ]
  },
  {
   "cell_type": "code",
   "execution_count": 17,
   "metadata": {
    "id": "Sy44HRcI2TiN"
   },
   "outputs": [
    {
     "name": "stdout",
     "output_type": "stream",
     "text": [
      "cat\n"
     ]
    }
   ],
   "source": [
    "print(prediction)"
   ]
  }
 ],
 "metadata": {
  "colab": {
   "collapsed_sections": [],
   "name": "convolutional_neural_network.ipynb",
   "provenance": []
  },
  "kernelspec": {
   "display_name": "Python 3 (ipykernel)",
   "language": "python",
   "name": "python3"
  },
  "language_info": {
   "codemirror_mode": {
    "name": "ipython",
    "version": 3
   },
   "file_extension": ".py",
   "mimetype": "text/x-python",
   "name": "python",
   "nbconvert_exporter": "python",
   "pygments_lexer": "ipython3",
   "version": "3.9.18"
  }
 },
 "nbformat": 4,
 "nbformat_minor": 4
}
